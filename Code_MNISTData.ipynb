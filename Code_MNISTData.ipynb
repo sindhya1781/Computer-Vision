{
  "cells": [
    {
      "cell_type": "markdown",
      "metadata": {
        "id": "py8FBaanG3-Z"
      },
      "source": [
        "Using Euclidian distance or dot product similarity (choose one per dataset, you can try other similarity metrics),\n",
        "\n",
        "A) run KMeans on the MNIST Dataset, try K=10\n",
        "\n",
        "B) run KMeans on the FASHION Dataset, try K=10\n",
        "\n",
        "C) run KMeans on the 20NG Dataset, try K=20"
      ]
    },
    {
      "cell_type": "code",
      "execution_count": 1,
      "metadata": {
        "id": "SNbsML-lHEF3"
      },
      "outputs": [],
      "source": [
        "# A) run KMeans on the MNIST Dataset, try K=10\n",
        "\n",
        "import tensorflow as tf\n",
        "import numpy as np\n",
        "import pandas as pd\n",
        "import math\n",
        "from sklearn.metrics.pairwise import euclidean_distances\n",
        "from sklearn.metrics.pairwise import cosine_similarity\n",
        "from sklearn.model_selection import train_test_split\n",
        "import nltk\n",
        "from sklearn import metrics"
      ]
    },
    {
      "cell_type": "code",
      "execution_count": 2,
      "metadata": {
        "id": "G1grPhwSHcAq"
      },
      "outputs": [],
      "source": [
        "# Load MNIST Data from Keras\n",
        "\n",
        "(x_train, y_train), (x_test, y_test) = tf.keras.datasets.mnist.load_data()"
      ]
    },
    {
      "cell_type": "code",
      "execution_count": 3,
      "metadata": {
        "colab": {
          "base_uri": "https://localhost:8080/"
        },
        "id": "HB1rMb7nHgSF",
        "outputId": "14939638-17ec-4209-d391-a4f3b28e168a"
      },
      "outputs": [
        {
          "output_type": "execute_result",
          "data": {
            "text/plain": [
              "(784, 60000)"
            ]
          },
          "metadata": {},
          "execution_count": 3
        }
      ],
      "source": [
        "# resize the train data for normalization\n",
        "x_train_reshaped = np.reshape(x_train, [-1, x_train.shape[0]])\n",
        "x_train_reshaped.shape"
      ]
    },
    {
      "cell_type": "code",
      "execution_count": 4,
      "metadata": {
        "colab": {
          "base_uri": "https://localhost:8080/"
        },
        "id": "p23eh-IGI5kQ",
        "outputId": "dd31f914-b7ac-4bdf-9cf9-4e0db403eeb4"
      },
      "outputs": [
        {
          "output_type": "execute_result",
          "data": {
            "text/plain": [
              "(784, 10000)"
            ]
          },
          "metadata": {},
          "execution_count": 4
        }
      ],
      "source": [
        "# resize the test data for normalization\n",
        "x_test_reshaped = np.reshape(x_test, [-1, x_test.shape[0]])\n",
        "x_test_reshaped.shape"
      ]
    },
    {
      "cell_type": "code",
      "execution_count": 5,
      "metadata": {
        "id": "C7_50yCvHlSx"
      },
      "outputs": [],
      "source": [
        "# Normalizing Train Data - Subtracting mean and Dividing by SD\n",
        "train_mean = np.mean(x_train_reshaped)\n",
        "train_sd = np.std(x_train_reshaped)\n",
        "train_norm = (x_train_reshaped - train_mean)/train_sd\n",
        "\n",
        "# Normalizing Test Data - Subtracting mean and Dividing by SD\n",
        "test_mean = np.mean(x_test_reshaped)\n",
        "test_sd = np.std(x_test_reshaped)\n",
        "test_norm = (x_test_reshaped - test_mean)/test_sd"
      ]
    },
    {
      "cell_type": "code",
      "execution_count": 6,
      "metadata": {
        "id": "G2r3V4UAJEo9"
      },
      "outputs": [],
      "source": [
        "train_norm = train_norm.transpose()"
      ]
    },
    {
      "cell_type": "code",
      "execution_count": 7,
      "metadata": {
        "id": "JcZmEsTEJG-z"
      },
      "outputs": [],
      "source": [
        "test_norm = test_norm.transpose()"
      ]
    },
    {
      "cell_type": "code",
      "execution_count": null,
      "metadata": {
        "id": "O486qjtmJKp0"
      },
      "outputs": [],
      "source": [
        "# Initialization for k-means\n",
        "\n",
        "n = train_norm.shape[0]\n",
        "k = 10\n",
        "\n",
        "# Membership initialization (pi)\n",
        "pi = np.zeros((n, k))\n",
        "\n",
        "# Centroid initialization (mu) - setting 10 random centroids\n",
        "mu = train_norm[np.random.choice(train_norm.shape[0], k, replace=False)]"
      ]
    },
    {
      "cell_type": "code",
      "execution_count": null,
      "metadata": {
        "colab": {
          "base_uri": "https://localhost:8080/"
        },
        "id": "0KLM0XgsKtgK",
        "outputId": "e0deeb4a-7c3c-400d-a8e4-cdcc53135dc4"
      },
      "outputs": [
        {
          "name": "stdout",
          "output_type": "stream",
          "text": [
            "Iteration  1\n",
            "Iteration  2\n",
            "Iteration  3\n",
            "Iteration  4\n",
            "Iteration  5\n",
            "Iteration  6\n",
            "Iteration  7\n",
            "Iteration  8\n",
            "Iteration  9\n",
            "Iteration  10\n",
            "Iteration  11\n",
            "Iteration  12\n",
            "Iteration  13\n",
            "Iteration  14\n",
            "Iteration  15\n",
            "Iteration  16\n",
            "Iteration  17\n",
            "Iteration  18\n",
            "Iteration  19\n",
            "Iteration  20\n",
            "Iteration  21\n",
            "Iteration  22\n",
            "Iteration  23\n",
            "Iteration  24\n",
            "Iteration  25\n",
            "Iteration  26\n",
            "Iteration  27\n",
            "Iteration  28\n",
            "Iteration  29\n",
            "Iteration  30\n",
            "Iteration  31\n",
            "Iteration  32\n",
            "Iteration  33\n",
            "Iteration  34\n",
            "Iteration  35\n",
            "Iteration  36\n",
            "Iteration  37\n",
            "Iteration  38\n",
            "Iteration  39\n",
            "Iteration  40\n",
            "Iteration  41\n",
            "Iteration  42\n",
            "Iteration  43\n",
            "Iteration  44\n",
            "Iteration  45\n",
            "Iteration  46\n",
            "Iteration  47\n",
            "Iteration  48\n",
            "Iteration  49\n",
            "Iteration  50\n",
            "Iteration  51\n",
            "Iteration  52\n",
            "Iteration  53\n",
            "Iteration  54\n",
            "Iteration  55\n",
            "Iteration  56\n",
            "Iteration  57\n",
            "Iteration  58\n",
            "Iteration  59\n",
            "Iteration  60\n",
            "Iteration  61\n",
            "Iteration  62\n",
            "Iteration  63\n",
            "Iteration  64\n",
            "Iteration  65\n",
            "Iteration  66\n",
            "Iteration  67\n"
          ]
        }
      ],
      "source": [
        "# E & M Step for k-means\n",
        "\n",
        "new_pi = pi\n",
        "new_mu = mu\n",
        "flag = 0\n",
        "z = 1\n",
        "\n",
        "while flag == 0:\n",
        "  if  (new_pi == pi).all() and z != 1:\n",
        "    flag = 1\n",
        "  else:\n",
        "    pi = new_pi\n",
        "    new_pi = np.zeros((n, k))\n",
        "    print (\"Iteration \", z)\n",
        "    mu = new_mu\n",
        "  # M step for setting Membership in EM\n",
        "    for i in range(train_norm.shape[0]):\n",
        "      dist_arr = [];\n",
        "      for clust in range(len(mu)):\n",
        "        dist_arr.append(abs(np.linalg.norm(train_norm[i] - mu[clust])))\n",
        "      ind_min = pd.Series(dist_arr).idxmin()\n",
        "      new_pi[i, ind_min] = 1\n",
        "  # E step for recalculating centroids\n",
        "    new_mu = (np.matmul(train_norm.transpose(), new_pi).transpose())/(np.array([new_pi.sum(axis=0)] * mu.shape[1]).transpose())\n",
        "    z = z + 1 \n"
      ]
    },
    {
      "cell_type": "code",
      "execution_count": 25,
      "metadata": {
        "id": "x-WrI6x_oT7d"
      },
      "outputs": [],
      "source": [
        "# Initialization for k-means - Trying with a lower k\n",
        "\n",
        "n = train_norm.shape[0]\n",
        "k = 5\n",
        "\n",
        "# Membership initialization (pi)\n",
        "pi = np.zeros((n, k))\n",
        "\n",
        "# Centroid initialization (mu) - setting 10 random centroids\n",
        "mu = train_norm[np.random.choice(train_norm.shape[0], k, replace=False)]"
      ]
    },
    {
      "cell_type": "code",
      "execution_count": 26,
      "metadata": {
        "colab": {
          "base_uri": "https://localhost:8080/"
        },
        "id": "vt5Dc3vsoeEX",
        "outputId": "2fc31fe4-36f1-4466-d9c7-1ea668e87f43"
      },
      "outputs": [
        {
          "output_type": "stream",
          "name": "stdout",
          "text": [
            "Iteration  1\n",
            "Iteration  2\n",
            "Iteration  3\n",
            "Iteration  4\n",
            "Iteration  5\n",
            "Iteration  6\n",
            "Iteration  7\n",
            "Iteration  8\n",
            "Iteration  9\n",
            "Iteration  10\n",
            "Iteration  11\n",
            "Iteration  12\n",
            "Iteration  13\n",
            "Iteration  14\n",
            "Iteration  15\n",
            "Iteration  16\n",
            "Iteration  17\n",
            "Iteration  18\n",
            "Iteration  19\n",
            "Iteration  20\n",
            "Iteration  21\n",
            "Iteration  22\n",
            "Iteration  23\n",
            "Iteration  24\n",
            "Iteration  25\n",
            "Iteration  26\n",
            "Iteration  27\n",
            "Iteration  28\n",
            "Iteration  29\n",
            "Iteration  30\n",
            "Iteration  31\n",
            "Iteration  32\n",
            "Iteration  33\n",
            "Iteration  34\n",
            "Iteration  35\n",
            "Iteration  36\n",
            "Iteration  37\n",
            "Iteration  38\n",
            "Iteration  39\n",
            "Iteration  40\n"
          ]
        }
      ],
      "source": [
        "# E & M Step for k-means\n",
        "\n",
        "new_pi = pi\n",
        "new_mu = mu\n",
        "flag = 0\n",
        "z = 1\n",
        "\n",
        "while flag == 0:\n",
        "  if  (new_pi == pi).all() and z != 1:\n",
        "    flag = 1\n",
        "  else:\n",
        "    pi = new_pi\n",
        "    new_pi = np.zeros((n, k))\n",
        "    print (\"Iteration \", z)\n",
        "    mu = new_mu\n",
        "  # M step for setting Membership in EM\n",
        "    for i in range(train_norm.shape[0]):\n",
        "      dist_arr = [];\n",
        "      for clust in range(len(mu)):\n",
        "        dist_arr.append(abs(np.linalg.norm(train_norm[i] - mu[clust])))\n",
        "      ind_min = pd.Series(dist_arr).idxmin()\n",
        "      new_pi[i, ind_min] = 1\n",
        "  # E step for recalculating centroids\n",
        "    new_mu = (np.matmul(train_norm.transpose(), new_pi).transpose())/(np.array([new_pi.sum(axis=0)] * mu.shape[1]).transpose())\n",
        "    z = z + 1 \n"
      ]
    }
  ],
  "metadata": {
    "colab": {
      "provenance": []
    },
    "kernelspec": {
      "display_name": "Python 3",
      "name": "python3"
    },
    "language_info": {
      "name": "python"
    }
  },
  "nbformat": 4,
  "nbformat_minor": 0
}